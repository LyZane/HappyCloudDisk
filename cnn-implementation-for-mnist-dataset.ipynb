{
 "cells": [
  {
   "cell_type": "markdown",
   "id": "41f34c43",
   "metadata": {
    "papermill": {
     "duration": 0.009337,
     "end_time": "2024-08-02T03:24:24.608132",
     "exception": false,
     "start_time": "2024-08-02T03:24:24.598795",
     "status": "completed"
    },
    "tags": []
   },
   "source": [
    "# Explanation of the CNN Implementation for MNIST Dataset\n",
    "\n",
    "# 1. Data Analysis and Preprocessing\n",
    "\n",
    "1. **Load the Data:**\n",
    "   - Import the training, test, and sample submission CSV files using `pandas.read_csv`.\n",
    "   - This gives us the `train_df`, `test_df`, and `sample_submission` dataframes.\n",
    "\n",
    "2. **Check for Missing Values:**\n",
    "   - Use `isnull().sum().sum()` on the dataframes to ensure there are no missing values.\n",
    "   - This step ensures data integrity before proceeding with analysis.\n",
    "\n",
    "3. **Visualize Label Distribution:**\n",
    "   - Use `seaborn.countplot` to plot the distribution of digit labels in the training set.\n",
    "   - This helps us understand the balance of the classes in the dataset.\n",
    "\n",
    "4. **Separate Features and Labels:**\n",
    "   - Extract the pixel values (features) and the labels from the training dataframe.\n",
    "   - The features are stored in `X` and the labels in `y`.\n",
    "\n",
    "5. **Normalize Pixel Values:**\n",
    "   - Scale the pixel values to the range [0, 1] by dividing by 255.\n",
    "   - Normalization helps in faster convergence of the model during training.\n",
    "\n",
    "6. **Reshape Data:**\n",
    "   - Reshape the data into the shape required by the neural network, which is `(28, 28, 1)` for each image.\n",
    "   - This shape is necessary for the Conv2D layers in the CNN.\n",
    "\n",
    "7. **Categorical Encoding:**\n",
    "   - Convert the labels to one-hot encoded format using `tensorflow.keras.utils.to_categorical`.\n",
    "   - One-hot encoding is necessary for the softmax output layer of the CNN.\n",
    "\n",
    "8. **Train-Validation Split:**\n",
    "   - Split the training data into training and validation sets using `train_test_split`.\n",
    "   - This allows us to evaluate the model on unseen data during training.\n",
    "\n",
    "# 2. Model Building\n",
    "\n",
    "1. **Build the CNN Model:**\n",
    "   - Define a sequential model using `tensorflow.keras.models.Sequential`.\n",
    "   - Add Conv2D layers for feature extraction, each followed by a MaxPooling2D layer to reduce spatial dimensions.\n",
    "   - Add Dropout layers to prevent overfitting by randomly setting a fraction of input units to 0.\n",
    "   - Flatten the output from the convolutional layers to feed into dense layers.\n",
    "   - Add Dense layers, with the final Dense layer having 10 units (one for each digit) and a softmax activation function for classification.\n",
    "\n",
    "2. **Compile the Model:**\n",
    "   - Compile the model with the Adam optimizer, categorical crossentropy loss, and accuracy as the metric.\n",
    "   - The Adam optimizer is chosen for its efficiency and effectiveness.\n",
    "   - Categorical crossentropy is used because it is a multi-class classification problem.\n",
    "\n",
    "# 3. Model Training and Evaluation\n",
    "\n",
    "1. **Train the Model:**\n",
    "   - Fit the model on the training data using the `fit` method.\n",
    "   - Provide the validation data for evaluation during training.\n",
    "   - Set the number of epochs and batch size.\n",
    "\n",
    "2. **Evaluate the Model:**\n",
    "   - Evaluate the model on the validation data using the `evaluate` method.\n",
    "   - This provides the validation loss and accuracy.\n",
    "\n",
    "3. **Visualize Training Progress:**\n",
    "   - Plot the training and validation accuracy using `matplotlib.pyplot.plot`.\n",
    "   - Plot the training and validation loss.\n",
    "   - These plots help in understanding the model’s learning progress and whether it is overfitting or underfitting.\n",
    "\n",
    "# 4. Generate Predictions and Submission File\n",
    "\n",
    "1. **Predict on Test Data:**\n",
    "   - Use the trained model to predict labels for the test data using the `predict` method.\n",
    "   - Convert the predictions to class labels using `np.argmax`.\n",
    "\n",
    "2. **Create Submission File:**\n",
    "   - Create a DataFrame with ImageId and the predicted labels.\n",
    "   - Save the DataFrame to a CSV file in the required format using `to_csv`.\n",
    "\n"
   ]
  },
  {
   "cell_type": "markdown",
   "id": "0f80bc1b",
   "metadata": {
    "papermill": {
     "duration": 0.008429,
     "end_time": "2024-08-02T03:24:24.625446",
     "exception": false,
     "start_time": "2024-08-02T03:24:24.617017",
     "status": "completed"
    },
    "tags": []
   },
   "source": [
    "# 1. Data Analysis and Preprocessing"
   ]
  },
  {
   "cell_type": "code",
   "execution_count": 1,
   "id": "2445231e",
   "metadata": {
    "execution": {
     "iopub.execute_input": "2024-08-02T03:24:24.645712Z",
     "iopub.status.busy": "2024-08-02T03:24:24.644352Z",
     "iopub.status.idle": "2024-08-02T03:24:43.081053Z",
     "shell.execute_reply": "2024-08-02T03:24:43.079822Z"
    },
    "papermill": {
     "duration": 18.449748,
     "end_time": "2024-08-02T03:24:43.083942",
     "exception": false,
     "start_time": "2024-08-02T03:24:24.634194",
     "status": "completed"
    },
    "tags": []
   },
   "outputs": [
    {
     "name": "stderr",
     "output_type": "stream",
     "text": [
      "2024-08-02 03:24:30.187640: E external/local_xla/xla/stream_executor/cuda/cuda_dnn.cc:9261] Unable to register cuDNN factory: Attempting to register factory for plugin cuDNN when one has already been registered\n",
      "2024-08-02 03:24:30.187782: E external/local_xla/xla/stream_executor/cuda/cuda_fft.cc:607] Unable to register cuFFT factory: Attempting to register factory for plugin cuFFT when one has already been registered\n",
      "2024-08-02 03:24:30.368167: E external/local_xla/xla/stream_executor/cuda/cuda_blas.cc:1515] Unable to register cuBLAS factory: Attempting to register factory for plugin cuBLAS when one has already been registered\n"
     ]
    }
   ],
   "source": [
    "# Load and preprocess MNIST dataset for QCNN\n",
    "import pandas as pd\n",
    "import numpy as np\n",
    "import matplotlib.pyplot as plt\n",
    "import seaborn as sns\n",
    "from sklearn.model_selection import train_test_split\n",
    "from tensorflow.keras.utils import to_categorical"
   ]
  },
  {
   "cell_type": "code",
   "execution_count": 2,
   "id": "374c7ce2",
   "metadata": {
    "execution": {
     "iopub.execute_input": "2024-08-02T03:24:43.104304Z",
     "iopub.status.busy": "2024-08-02T03:24:43.103441Z",
     "iopub.status.idle": "2024-08-02T03:24:49.837437Z",
     "shell.execute_reply": "2024-08-02T03:24:49.836249Z"
    },
    "papermill": {
     "duration": 6.747217,
     "end_time": "2024-08-02T03:24:49.840388",
     "exception": false,
     "start_time": "2024-08-02T03:24:43.093171",
     "status": "completed"
    },
    "tags": []
   },
   "outputs": [],
   "source": [
    "# Load the data\n",
    "# It contains 60,000 training images and 10,000 testing images, \n",
    "# each of which is a grayscale image of size 28×28 pixels.\n",
    "train_df = pd.read_csv('/kaggle/input/digit-recognizer/train.csv')\n",
    "test_df = pd.read_csv('/kaggle/input/digit-recognizer/test.csv')\n",
    "sample_submission = pd.read_csv('/kaggle/input/digit-recognizer/sample_submission.csv')"
   ]
  },
  {
   "cell_type": "code",
   "execution_count": 3,
   "id": "c43f45b1",
   "metadata": {
    "execution": {
     "iopub.execute_input": "2024-08-02T03:24:49.860997Z",
     "iopub.status.busy": "2024-08-02T03:24:49.860534Z",
     "iopub.status.idle": "2024-08-02T03:24:49.881988Z",
     "shell.execute_reply": "2024-08-02T03:24:49.880683Z"
    },
    "papermill": {
     "duration": 0.03537,
     "end_time": "2024-08-02T03:24:49.885266",
     "exception": false,
     "start_time": "2024-08-02T03:24:49.849896",
     "status": "completed"
    },
    "tags": []
   },
   "outputs": [
    {
     "name": "stdout",
     "output_type": "stream",
     "text": [
      "   label  pixel0  pixel1  pixel2  pixel3  pixel4  pixel5  pixel6  pixel7  \\\n",
      "0      1       0       0       0       0       0       0       0       0   \n",
      "1      0       0       0       0       0       0       0       0       0   \n",
      "2      1       0       0       0       0       0       0       0       0   \n",
      "3      4       0       0       0       0       0       0       0       0   \n",
      "4      0       0       0       0       0       0       0       0       0   \n",
      "\n",
      "   pixel8  ...  pixel774  pixel775  pixel776  pixel777  pixel778  pixel779  \\\n",
      "0       0  ...         0         0         0         0         0         0   \n",
      "1       0  ...         0         0         0         0         0         0   \n",
      "2       0  ...         0         0         0         0         0         0   \n",
      "3       0  ...         0         0         0         0         0         0   \n",
      "4       0  ...         0         0         0         0         0         0   \n",
      "\n",
      "   pixel780  pixel781  pixel782  pixel783  \n",
      "0         0         0         0         0  \n",
      "1         0         0         0         0  \n",
      "2         0         0         0         0  \n",
      "3         0         0         0         0  \n",
      "4         0         0         0         0  \n",
      "\n",
      "[5 rows x 785 columns]\n"
     ]
    }
   ],
   "source": [
    "# Display the first few rows of the training data\n",
    "print(train_df.head())"
   ]
  },
  {
   "cell_type": "code",
   "execution_count": 4,
   "id": "82076462",
   "metadata": {
    "execution": {
     "iopub.execute_input": "2024-08-02T03:24:49.907971Z",
     "iopub.status.busy": "2024-08-02T03:24:49.906417Z",
     "iopub.status.idle": "2024-08-02T03:24:49.963512Z",
     "shell.execute_reply": "2024-08-02T03:24:49.961685Z"
    },
    "papermill": {
     "duration": 0.071453,
     "end_time": "2024-08-02T03:24:49.966501",
     "exception": false,
     "start_time": "2024-08-02T03:24:49.895048",
     "status": "completed"
    },
    "tags": []
   },
   "outputs": [
    {
     "name": "stdout",
     "output_type": "stream",
     "text": [
      "0\n",
      "0\n"
     ]
    }
   ],
   "source": [
    "# Check for missing values\n",
    "print(train_df.isnull().sum().sum())\n",
    "print(test_df.isnull().sum().sum())"
   ]
  },
  {
   "cell_type": "code",
   "execution_count": 5,
   "id": "341bfb52",
   "metadata": {
    "execution": {
     "iopub.execute_input": "2024-08-02T03:24:49.987223Z",
     "iopub.status.busy": "2024-08-02T03:24:49.986747Z",
     "iopub.status.idle": "2024-08-02T03:24:50.008977Z",
     "shell.execute_reply": "2024-08-02T03:24:50.007656Z"
    },
    "papermill": {
     "duration": 0.035821,
     "end_time": "2024-08-02T03:24:50.011727",
     "exception": false,
     "start_time": "2024-08-02T03:24:49.975906",
     "status": "completed"
    },
    "tags": []
   },
   "outputs": [
    {
     "data": {
      "text/plain": [
       "label\n",
       "0    4132\n",
       "1    4684\n",
       "2    4177\n",
       "3    4351\n",
       "4    4072\n",
       "5    3795\n",
       "6    4137\n",
       "7    4401\n",
       "8    4063\n",
       "9    4188\n",
       "Name: count, dtype: int64"
      ]
     },
     "execution_count": 5,
     "metadata": {},
     "output_type": "execute_result"
    }
   ],
   "source": [
    "train_df['label'].value_counts().sort_index()"
   ]
  },
  {
   "cell_type": "code",
   "execution_count": 6,
   "id": "e6e15fc0",
   "metadata": {
    "execution": {
     "iopub.execute_input": "2024-08-02T03:24:50.032908Z",
     "iopub.status.busy": "2024-08-02T03:24:50.032456Z",
     "iopub.status.idle": "2024-08-02T03:24:50.392667Z",
     "shell.execute_reply": "2024-08-02T03:24:50.391231Z"
    },
    "papermill": {
     "duration": 0.374625,
     "end_time": "2024-08-02T03:24:50.395794",
     "exception": false,
     "start_time": "2024-08-02T03:24:50.021169",
     "status": "completed"
    },
    "tags": []
   },
   "outputs": [
    {
     "data": {
      "image/png": "[encoded data removed]",
      "text/plain": [
       "<Figure size 640x480 with 1 Axes>"
      ]
     },
     "metadata": {},
     "output_type": "display_data"
    }
   ],
   "source": [
    "# Visualize the distribution of labels\n",
    "sns.countplot(x=train_df['label'])\n",
    "plt.title('Distribution of Labels in Training Set')\n",
    "plt.show()\n",
    "\n"
   ]
  },
  {
   "cell_type": "code",
   "execution_count": 7,
   "id": "fec0b489",
   "metadata": {
    "execution": {
     "iopub.execute_input": "2024-08-02T03:24:50.417567Z",
     "iopub.status.busy": "2024-08-02T03:24:50.417114Z",
     "iopub.status.idle": "2024-08-02T03:24:50.533780Z",
     "shell.execute_reply": "2024-08-02T03:24:50.532382Z"
    },
    "papermill": {
     "duration": 0.130844,
     "end_time": "2024-08-02T03:24:50.536683",
     "exception": false,
     "start_time": "2024-08-02T03:24:50.405839",
     "status": "completed"
    },
    "tags": []
   },
   "outputs": [],
   "source": [
    "# Separate features and labels\n",
    "X = train_df.drop(columns=['label']).values\n",
    "y = train_df['label'].values"
   ]
  },
  {
   "cell_type": "code",
   "execution_count": 8,
   "id": "21d194aa",
   "metadata": {
    "execution": {
     "iopub.execute_input": "2024-08-02T03:24:50.558425Z",
     "iopub.status.busy": "2024-08-02T03:24:50.558024Z",
     "iopub.status.idle": "2024-08-02T03:24:50.850667Z",
     "shell.execute_reply": "2024-08-02T03:24:50.849045Z"
    },
    "papermill": {
     "duration": 0.306844,
     "end_time": "2024-08-02T03:24:50.853550",
     "exception": false,
     "start_time": "2024-08-02T03:24:50.546706",
     "status": "completed"
    },
    "tags": []
   },
   "outputs": [
    {
     "data": {
      "text/plain": [
       "<matplotlib.image.AxesImage at 0x7a2f0aefc1f0>"
      ]
     },
     "execution_count": 8,
     "metadata": {},
     "output_type": "execute_result"
    },
    {
     "data": {
      "image/png": "[encoded data removed]",
      "text/plain": [
       "<Figure size 640x480 with 1 Axes>"
      ]
     },
     "metadata": {},
     "output_type": "display_data"
    }
   ],
   "source": [
    "plt.imshow(X[0].reshape(28,28))"
   ]
  },
  {
   "cell_type": "code",
   "execution_count": 9,
   "id": "a4588545",
   "metadata": {
    "execution": {
     "iopub.execute_input": "2024-08-02T03:24:50.876176Z",
     "iopub.status.busy": "2024-08-02T03:24:50.875700Z",
     "iopub.status.idle": "2024-08-02T03:24:51.096239Z",
     "shell.execute_reply": "2024-08-02T03:24:51.094410Z"
    },
    "papermill": {
     "duration": 0.235244,
     "end_time": "2024-08-02T03:24:51.099166",
     "exception": false,
     "start_time": "2024-08-02T03:24:50.863922",
     "status": "completed"
    },
    "tags": []
   },
   "outputs": [],
   "source": [
    "# Normalize the pixel values\n",
    "X = X / 255.0\n",
    "test_data = test_df.values / 255.0"
   ]
  },
  {
   "cell_type": "code",
   "execution_count": 10,
   "id": "429c3299",
   "metadata": {
    "execution": {
     "iopub.execute_input": "2024-08-02T03:24:51.122518Z",
     "iopub.status.busy": "2024-08-02T03:24:51.122029Z",
     "iopub.status.idle": "2024-08-02T03:24:51.128811Z",
     "shell.execute_reply": "2024-08-02T03:24:51.127453Z"
    },
    "papermill": {
     "duration": 0.021257,
     "end_time": "2024-08-02T03:24:51.131570",
     "exception": false,
     "start_time": "2024-08-02T03:24:51.110313",
     "status": "completed"
    },
    "tags": []
   },
   "outputs": [],
   "source": [
    "# Reshape data to fit the model input (28x28x1)\n",
    "X = X.reshape(-1, 28, 28, 1)\n",
    "test_data = test_data.reshape(-1, 28, 28, 1)"
   ]
  },
  {
   "cell_type": "code",
   "execution_count": 11,
   "id": "1340c264",
   "metadata": {
    "execution": {
     "iopub.execute_input": "2024-08-02T03:24:51.154060Z",
     "iopub.status.busy": "2024-08-02T03:24:51.153623Z",
     "iopub.status.idle": "2024-08-02T03:24:51.162696Z",
     "shell.execute_reply": "2024-08-02T03:24:51.161330Z"
    },
    "papermill": {
     "duration": 0.023575,
     "end_time": "2024-08-02T03:24:51.165532",
     "exception": false,
     "start_time": "2024-08-02T03:24:51.141957",
     "status": "completed"
    },
    "tags": []
   },
   "outputs": [
    {
     "data": {
      "text/plain": [
       "array([1, 0, 1, ..., 7, 6, 9])"
      ]
     },
     "execution_count": 11,
     "metadata": {},
     "output_type": "execute_result"
    }
   ],
   "source": [
    "y"
   ]
  },
  {
   "cell_type": "code",
   "execution_count": 12,
   "id": "878590af",
   "metadata": {
    "execution": {
     "iopub.execute_input": "2024-08-02T03:24:51.188359Z",
     "iopub.status.busy": "2024-08-02T03:24:51.187909Z",
     "iopub.status.idle": "2024-08-02T03:24:51.195538Z",
     "shell.execute_reply": "2024-08-02T03:24:51.194178Z"
    },
    "papermill": {
     "duration": 0.022315,
     "end_time": "2024-08-02T03:24:51.198352",
     "exception": false,
     "start_time": "2024-08-02T03:24:51.176037",
     "status": "completed"
    },
    "tags": []
   },
   "outputs": [],
   "source": [
    "# Convert labels to categorical format\n",
    "# 将整数标签转换为二进制类别矩阵\n",
    "y = to_categorical(y, num_classes=10)"
   ]
  },
  {
   "cell_type": "code",
   "execution_count": 13,
   "id": "1c0452c6",
   "metadata": {
    "execution": {
     "iopub.execute_input": "2024-08-02T03:24:51.221196Z",
     "iopub.status.busy": "2024-08-02T03:24:51.220755Z",
     "iopub.status.idle": "2024-08-02T03:24:51.230301Z",
     "shell.execute_reply": "2024-08-02T03:24:51.228882Z"
    },
    "papermill": {
     "duration": 0.024287,
     "end_time": "2024-08-02T03:24:51.233134",
     "exception": false,
     "start_time": "2024-08-02T03:24:51.208847",
     "status": "completed"
    },
    "tags": []
   },
   "outputs": [
    {
     "data": {
      "text/plain": [
       "array([[0., 1., 0., ..., 0., 0., 0.],\n",
       "       [1., 0., 0., ..., 0., 0., 0.],\n",
       "       [0., 1., 0., ..., 0., 0., 0.],\n",
       "       ...,\n",
       "       [0., 0., 0., ..., 1., 0., 0.],\n",
       "       [0., 0., 0., ..., 0., 0., 0.],\n",
       "       [0., 0., 0., ..., 0., 0., 1.]])"
      ]
     },
     "execution_count": 13,
     "metadata": {},
     "output_type": "execute_result"
    }
   ],
   "source": [
    "y"
   ]
  },
  {
   "cell_type": "code",
   "execution_count": 14,
   "id": "c490ab49",
   "metadata": {
    "execution": {
     "iopub.execute_input": "2024-08-02T03:24:51.257154Z",
     "iopub.status.busy": "2024-08-02T03:24:51.256763Z",
     "iopub.status.idle": "2024-08-02T03:24:51.704616Z",
     "shell.execute_reply": "2024-08-02T03:24:51.703244Z"
    },
    "papermill": {
     "duration": 0.463607,
     "end_time": "2024-08-02T03:24:51.707754",
     "exception": false,
     "start_time": "2024-08-02T03:24:51.244147",
     "status": "completed"
    },
    "tags": []
   },
   "outputs": [],
   "source": [
    "# Split the training data into training and validation sets\n",
    "X_train, X_val, y_train, y_val = train_test_split(X, y, test_size=0.2, random_state=42)"
   ]
  },
  {
   "cell_type": "markdown",
   "id": "ce1dcaf9",
   "metadata": {
    "papermill": {
     "duration": 0.010316,
     "end_time": "2024-08-02T03:24:51.728693",
     "exception": false,
     "start_time": "2024-08-02T03:24:51.718377",
     "status": "completed"
    },
    "tags": []
   },
   "source": [
    "# 2. Quantum Convolutional Neural Network (QCNN)"
   ]
  },
  {
   "cell_type": "code",
   "execution_count": 15,
   "id": "65e37768",
   "metadata": {
    "execution": {
     "iopub.execute_input": "2024-08-02T03:24:51.752143Z",
     "iopub.status.busy": "2024-08-02T03:24:51.751671Z",
     "iopub.status.idle": "2024-08-02T03:24:51.757193Z",
     "shell.execute_reply": "2024-08-02T03:24:51.755856Z"
    },
    "papermill": {
     "duration": 0.020282,
     "end_time": "2024-08-02T03:24:51.759843",
     "exception": false,
     "start_time": "2024-08-02T03:24:51.739561",
     "status": "completed"
    },
    "tags": []
   },
   "outputs": [],
   "source": [
    "# !pip install pennylane"
   ]
  },
  {
   "cell_type": "code",
   "execution_count": 16,
   "id": "5e767211",
   "metadata": {
    "execution": {
     "iopub.execute_input": "2024-08-02T03:24:51.783721Z",
     "iopub.status.busy": "2024-08-02T03:24:51.782427Z",
     "iopub.status.idle": "2024-08-02T03:24:51.789799Z",
     "shell.execute_reply": "2024-08-02T03:24:51.787938Z"
    },
    "papermill": {
     "duration": 0.022446,
     "end_time": "2024-08-02T03:24:51.792989",
     "exception": false,
     "start_time": "2024-08-02T03:24:51.770543",
     "status": "completed"
    },
    "tags": []
   },
   "outputs": [],
   "source": [
    "import numpy as np\n",
    "from tensorflow.keras import layers, models"
   ]
  },
  {
   "cell_type": "code",
   "execution_count": 17,
   "id": "06c8a287",
   "metadata": {
    "execution": {
     "iopub.execute_input": "2024-08-02T03:24:51.817009Z",
     "iopub.status.busy": "2024-08-02T03:24:51.815721Z",
     "iopub.status.idle": "2024-08-02T03:24:51.954928Z",
     "shell.execute_reply": "2024-08-02T03:24:51.953421Z"
    },
    "papermill": {
     "duration": 0.154299,
     "end_time": "2024-08-02T03:24:51.957974",
     "exception": false,
     "start_time": "2024-08-02T03:24:51.803675",
     "status": "completed"
    },
    "tags": []
   },
   "outputs": [
    {
     "name": "stderr",
     "output_type": "stream",
     "text": [
      "/opt/conda/lib/python3.10/site-packages/keras/src/layers/convolutional/base_conv.py:107: UserWarning: Do not pass an `input_shape`/`input_dim` argument to a layer. When using Sequential models, prefer using an `Input(shape)` object as the first layer in the model instead.\n",
      "  super().__init__(activity_regularizer=activity_regularizer, **kwargs)\n"
     ]
    }
   ],
   "source": [
    "# Title: Build and compile the Convolutional Neural Network\n",
    "from tensorflow.keras import layers, models\n",
    "\n",
    "# Build the CNN model\n",
    "# Conv2D 层是二维卷积层，用于在图像上应用卷积操作。卷积操作通过在输入图像上滑动一个小的窗口（称为卷积核或滤波器），并计算窗口内像素值与卷积核权重的点积，来提取图像的特征。\n",
    "# MaxPooling2D 层是二维最大池化层，用于对输入特征图进行下采样。池化操作通过在输入特征图上滑动一个窗口，并取窗口内最大值作为输出，来减少特征图的尺寸。\n",
    "cnn_model = models.Sequential([\n",
    "    # 卷积核：通过权重随机初始化，并通过反向传播修正\n",
    "    layers.Conv2D(32, (3, 3), activation='relu', input_shape=(28, 28, 1)),\n",
    "    layers.MaxPooling2D((2, 2)),\n",
    "    layers.Conv2D(64, (3, 3), activation='relu'),\n",
    "    layers.MaxPooling2D((2, 2)),\n",
    "    layers.Conv2D(64, (3, 3), activation='relu'),\n",
    "    layers.Flatten(),\n",
    "    layers.Dense(64, activation='relu'),\n",
    "    layers.Dense(10, activation='softmax')\n",
    "])\n",
    "\n",
    "# Compile the model\n",
    "cnn_model.compile(optimizer='adam', loss='categorical_crossentropy', metrics=['accuracy'])\n"
   ]
  },
  {
   "cell_type": "markdown",
   "id": "ed4ea3cb",
   "metadata": {
    "papermill": {
     "duration": 0.010468,
     "end_time": "2024-08-02T03:24:51.979184",
     "exception": false,
     "start_time": "2024-08-02T03:24:51.968716",
     "status": "completed"
    },
    "tags": []
   },
   "source": [
    "# 3. Visualization"
   ]
  },
  {
   "cell_type": "code",
   "execution_count": 18,
   "id": "02663a70",
   "metadata": {
    "execution": {
     "iopub.execute_input": "2024-08-02T03:24:52.002782Z",
     "iopub.status.busy": "2024-08-02T03:24:52.002317Z",
     "iopub.status.idle": "2024-08-02T03:27:38.768012Z",
     "shell.execute_reply": "2024-08-02T03:27:38.766547Z"
    },
    "papermill": {
     "duration": 166.780808,
     "end_time": "2024-08-02T03:27:38.770883",
     "exception": false,
     "start_time": "2024-08-02T03:24:51.990075",
     "status": "completed"
    },
    "tags": []
   },
   "outputs": [
    {
     "name": "stdout",
     "output_type": "stream",
     "text": [
      "Epoch 1/10\n",
      "\u001b[1m525/525\u001b[0m \u001b[32m━━━━━━━━━━━━━━━━━━━━\u001b[0m\u001b[37m\u001b[0m \u001b[1m19s\u001b[0m 32ms/step - accuracy: 0.8128 - loss: 0.5869 - val_accuracy: 0.9746 - val_loss: 0.0781\n",
      "Epoch 2/10\n",
      "\u001b[1m525/525\u001b[0m \u001b[32m━━━━━━━━━━━━━━━━━━━━\u001b[0m\u001b[37m\u001b[0m \u001b[1m16s\u001b[0m 30ms/step - accuracy: 0.9794 - loss: 0.0678 - val_accuracy: 0.9840 - val_loss: 0.0505\n",
      "Epoch 3/10\n",
      "\u001b[1m525/525\u001b[0m \u001b[32m━━━━━━━━━━━━━━━━━━━━\u001b[0m\u001b[37m\u001b[0m \u001b[1m16s\u001b[0m 31ms/step - accuracy: 0.9835 - loss: 0.0469 - val_accuracy: 0.9837 - val_loss: 0.0517\n",
      "Epoch 4/10\n",
      "\u001b[1m525/525\u001b[0m \u001b[32m━━━━━━━━━━━━━━━━━━━━\u001b[0m\u001b[37m\u001b[0m \u001b[1m16s\u001b[0m 30ms/step - accuracy: 0.9902 - loss: 0.0330 - val_accuracy: 0.9854 - val_loss: 0.0461\n",
      "Epoch 5/10\n",
      "\u001b[1m525/525\u001b[0m \u001b[32m━━━━━━━━━━━━━━━━━━━━\u001b[0m\u001b[37m\u001b[0m \u001b[1m16s\u001b[0m 31ms/step - accuracy: 0.9913 - loss: 0.0286 - val_accuracy: 0.9879 - val_loss: 0.0379\n",
      "Epoch 6/10\n",
      "\u001b[1m525/525\u001b[0m \u001b[32m━━━━━━━━━━━━━━━━━━━━\u001b[0m\u001b[37m\u001b[0m \u001b[1m16s\u001b[0m 30ms/step - accuracy: 0.9937 - loss: 0.0192 - val_accuracy: 0.9890 - val_loss: 0.0362\n",
      "Epoch 7/10\n",
      "\u001b[1m525/525\u001b[0m \u001b[32m━━━━━━━━━━━━━━━━━━━━\u001b[0m\u001b[37m\u001b[0m \u001b[1m16s\u001b[0m 31ms/step - accuracy: 0.9943 - loss: 0.0177 - val_accuracy: 0.9876 - val_loss: 0.0367\n",
      "Epoch 8/10\n",
      "\u001b[1m525/525\u001b[0m \u001b[32m━━━━━━━━━━━━━━━━━━━━\u001b[0m\u001b[37m\u001b[0m \u001b[1m16s\u001b[0m 30ms/step - accuracy: 0.9945 - loss: 0.0170 - val_accuracy: 0.9893 - val_loss: 0.0377\n",
      "Epoch 9/10\n",
      "\u001b[1m525/525\u001b[0m \u001b[32m━━━━━━━━━━━━━━━━━━━━\u001b[0m\u001b[37m\u001b[0m \u001b[1m16s\u001b[0m 31ms/step - accuracy: 0.9958 - loss: 0.0144 - val_accuracy: 0.9886 - val_loss: 0.0407\n",
      "Epoch 10/10\n",
      "\u001b[1m525/525\u001b[0m \u001b[32m━━━━━━━━━━━━━━━━━━━━\u001b[0m\u001b[37m\u001b[0m \u001b[1m20s\u001b[0m 30ms/step - accuracy: 0.9965 - loss: 0.0114 - val_accuracy: 0.9888 - val_loss: 0.0351\n"
     ]
    }
   ],
   "source": [
    "# Title: Train, evaluate, and visualize the CNN model\n",
    "# 准确率提供了模型预测正确率的直观度量，而损失函数则提供了模型性能的连续度量，用于指导模型训练过程中的参数调整\n",
    "history = cnn_model.fit(X_train, y_train, epochs=10, batch_size=64, validation_data=(X_val, y_val))"
   ]
  },
  {
   "cell_type": "code",
   "execution_count": 19,
   "id": "4ecfc883",
   "metadata": {
    "execution": {
     "iopub.execute_input": "2024-08-02T03:27:39.325615Z",
     "iopub.status.busy": "2024-08-02T03:27:39.325154Z",
     "iopub.status.idle": "2024-08-02T03:27:42.019897Z",
     "shell.execute_reply": "2024-08-02T03:27:42.018336Z"
    },
    "papermill": {
     "duration": 2.991366,
     "end_time": "2024-08-02T03:27:42.022815",
     "exception": false,
     "start_time": "2024-08-02T03:27:39.031449",
     "status": "completed"
    },
    "tags": []
   },
   "outputs": [
    {
     "name": "stdout",
     "output_type": "stream",
     "text": [
      "\u001b[1m263/263\u001b[0m \u001b[32m━━━━━━━━━━━━━━━━━━━━\u001b[0m\u001b[37m\u001b[0m \u001b[1m2s\u001b[0m 7ms/step - accuracy: 0.9873 - loss: 0.0417\n",
      "Validation loss: 0.0351371131837368\n",
      "Validation accuracy: 0.9888095259666443\n"
     ]
    }
   ],
   "source": [
    "# Evaluate the model\n",
    "val_loss, val_accuracy = cnn_model.evaluate(X_val, y_val)\n",
    "print(f'Validation loss: {val_loss}')\n",
    "print(f'Validation accuracy: {val_accuracy}')"
   ]
  },
  {
   "cell_type": "code",
   "execution_count": 20,
   "id": "ce95f94f",
   "metadata": {
    "execution": {
     "iopub.execute_input": "2024-08-02T03:27:42.563730Z",
     "iopub.status.busy": "2024-08-02T03:27:42.563283Z",
     "iopub.status.idle": "2024-08-02T03:27:43.147386Z",
     "shell.execute_reply": "2024-08-02T03:27:43.146184Z"
    },
    "papermill": {
     "duration": 0.857872,
     "end_time": "2024-08-02T03:27:43.150162",
     "exception": false,
     "start_time": "2024-08-02T03:27:42.292290",
     "status": "completed"
    },
    "tags": []
   },
   "outputs": [
    {
     "data": {
      "image/png": "[encoded data removed]",
      "text/plain": [
       "<Figure size 640x480 with 1 Axes>"
      ]
     },
     "metadata": {},
     "output_type": "display_data"
    },
    {
     "data": {
      "image/png": "[encoded data removed]",
      "text/plain": [
       "<Figure size 640x480 with 1 Axes>"
      ]
     },
     "metadata": {},
     "output_type": "display_data"
    }
   ],
   "source": [
    "# Plot training & validation accuracy values\n",
    "plt.plot(history.history['accuracy'])\n",
    "plt.plot(history.history['val_accuracy'])\n",
    "plt.title('Model accuracy')\n",
    "plt.ylabel('Accuracy')\n",
    "plt.xlabel('Epoch')\n",
    "plt.legend(['Train', 'Validation'], loc='upper left')\n",
    "plt.show()\n",
    "\n",
    "# Plot training & validation loss values\n",
    "plt.plot(history.history['loss'])\n",
    "plt.plot(history.history['val_loss'])\n",
    "plt.title('Model loss')\n",
    "plt.ylabel('Loss')\n",
    "plt.xlabel('Epoch')\n",
    "plt.legend(['Train', 'Validation'], loc='upper left')\n",
    "plt.show()"
   ]
  },
  {
   "cell_type": "markdown",
   "id": "270ffb7a",
   "metadata": {
    "papermill": {
     "duration": 0.269465,
     "end_time": "2024-08-02T03:27:43.688959",
     "exception": false,
     "start_time": "2024-08-02T03:27:43.419494",
     "status": "completed"
    },
    "tags": []
   },
   "source": [
    "# 4. Submission File Generation"
   ]
  },
  {
   "cell_type": "code",
   "execution_count": 21,
   "id": "14dfaac7",
   "metadata": {
    "execution": {
     "iopub.execute_input": "2024-08-02T03:27:44.223948Z",
     "iopub.status.busy": "2024-08-02T03:27:44.223482Z",
     "iopub.status.idle": "2024-08-02T03:27:50.722041Z",
     "shell.execute_reply": "2024-08-02T03:27:50.720410Z"
    },
    "papermill": {
     "duration": 6.77041,
     "end_time": "2024-08-02T03:27:50.724922",
     "exception": false,
     "start_time": "2024-08-02T03:27:43.954512",
     "status": "completed"
    },
    "tags": []
   },
   "outputs": [
    {
     "name": "stdout",
     "output_type": "stream",
     "text": [
      "\u001b[1m875/875\u001b[0m \u001b[32m━━━━━━━━━━━━━━━━━━━━\u001b[0m\u001b[37m\u001b[0m \u001b[1m6s\u001b[0m 7ms/step\n",
      "   ImageId  Label\n",
      "0        1      2\n",
      "1        2      0\n",
      "2        3      9\n",
      "3        4      0\n",
      "4        5      3\n"
     ]
    }
   ],
   "source": [
    "# Title: Generate predictions and create submission file\n",
    "predictions = cnn_model.predict(test_data)\n",
    "predicted_labels = np.argmax(predictions, axis=1)\n",
    "\n",
    "submission_df = pd.DataFrame({'ImageId': np.arange(1, len(predicted_labels) + 1), 'Label': predicted_labels})\n",
    "submission_df.to_csv('submission.csv', index=False)\n",
    "\n",
    "print(submission_df.head())\n"
   ]
  },
  {
   "cell_type": "markdown",
   "id": "304149e2",
   "metadata": {
    "papermill": {
     "duration": 0.279117,
     "end_time": "2024-08-02T03:27:51.286395",
     "exception": false,
     "start_time": "2024-08-02T03:27:51.007278",
     "status": "completed"
    },
    "tags": []
   },
   "source": [
    "# Summary\n",
    "This process involves loading and preprocessing the MNIST dataset, building a hybrid Quantum Convolutional Neural Network (QCNN) using Pennylane and TensorFlow, training and evaluating the model, visualizing the training history, and generating a submission file. Each step is crucial for achieving high accuracy in classifying handwritten digits and effectively leveraging quantum computing techniques."
   ]
  }
 ],
 "metadata": {
  "kaggle": {
   "accelerator": "none",
   "dataSources": [
    {
     "databundleVersionId": 861823,
     "sourceId": 3004,
     "sourceType": "competition"
    }
   ],
   "dockerImageVersionId": 30746,
   "isGpuEnabled": false,
   "isInternetEnabled": false,
   "language": "python",
   "sourceType": "notebook"
  },
  "kernelspec": {
   "display_name": "Python 3",
   "language": "python",
   "name": "python3"
  },
  "language_info": {
   "codemirror_mode": {
    "name": "ipython",
    "version": 3
   },
   "file_extension": ".py",
   "mimetype": "text/x-python",
   "name": "python",
   "nbconvert_exporter": "python",
   "pygments_lexer": "ipython3",
   "version": "3.10.13"
  },
  "papermill": {
   "default_parameters": {},
   "duration": 212.179629,
   "end_time": "2024-08-02T03:27:53.462323",
   "environment_variables": {},
   "exception": null,
   "input_path": "__notebook__.ipynb",
   "output_path": "__notebook__.ipynb",
   "parameters": {},
   "start_time": "2024-08-02T03:24:21.282694",
   "version": "2.5.0"
  }
 },
 "nbformat": 4,
 "nbformat_minor": 5
}
